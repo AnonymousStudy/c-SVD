{
 "cells": [
  {
   "cell_type": "markdown",
   "metadata": {},
   "source": [
    "# Tensor robust PCA (TRPCA) via c-SVD\n",
    "\n",
    "### Introduction\n",
    "\n",
    "we propose a new tensor decomposition framework named core-SVD. The main idea of this method is to apply the matrix-SVD to the core matrix yield from Tucker decomposition. \n",
    "\n",
    "<p align=\"center\">\n",
    "\t<a href=\"https://github.com/AnonymousStudy/c-SVD\">\n",
    "    <img class=\"page-image\" src=\"https://github.com/AnonymousStudy/c-SVD/figure/csvd.pdf\" >\n",
    "\t</a>\n",
    "</p>\n",
    "\n",
    "### Contents\n",
    "- [Demo](#Demo)\n",
    "- [References](#references)\n",
    "\n",
    "\n",
    "### Demo \n",
    "1. run the hyperspectral image denoising demo using:\n",
    "```\n",
    "matlab -nosplash -nodesktop < demo_hyperspectral_image_denoising.m\n",
    "```\n",
    "2. run the simultation on phase Transition in rank and sparsity using:\n",
    "```\n",
    "matlab -nosplash -nodesktop < demo_simulation.m\n",
    "```\n",
    "\n",
    "\n",
    "\n",
    "### References\n",
    "<ol>\n",
    "<li> L. D. Lathauwer, B. D. Moor and J. Vandewalle, A multilinear singular value decomposition, SIAM J. Matrix Analysis and Applications, 21(4):1253-1278, 2000\n",
    "<li> Canyi Lu, Jiashi Feng, Yudong Chen, Wei Liu, Zhouchen Lin, Shuicheng Yan. Tensor Robust Principal Component Analysis with A New Tensor Nuclear Norm. TPAMI. 2019\n",
    "\n",
    "\n"
   ]
  },
  {
   "cell_type": "code",
   "execution_count": null,
   "metadata": {},
   "outputs": [],
   "source": []
  }
 ],
 "metadata": {
  "kernelspec": {
   "display_name": "tproduct",
   "language": "python",
   "name": "tproduct"
  },
  "language_info": {
   "codemirror_mode": {
    "name": "ipython",
    "version": 3
   },
   "file_extension": ".py",
   "mimetype": "text/x-python",
   "name": "python",
   "nbconvert_exporter": "python",
   "pygments_lexer": "ipython3",
   "version": "3.9.6"
  }
 },
 "nbformat": 4,
 "nbformat_minor": 4
}
