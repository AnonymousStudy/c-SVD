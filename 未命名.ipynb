{
 "cells": [
  {
   "cell_type": "markdown",
   "metadata": {},
   "source": [
    "# Tensor robust PCA (TRPCA) via c-SVD\n",
    "\n",
    "## Introduction\n",
    "\n",
    "we propose a new tensor decomposition framework named core-SVD. The main idea of this method is to apply the matrix-SVD to the core matrix yield from Tucker decomposition. \n",
    "\n",
    "<p align=\"center\">\n",
    "\t<a href=\"https://github.com/AnonymousStudy/c-SVD\">\n",
    "    <img class=\"page-image\" src=\"figure/csvd.jpg\" >\n",
    "\t</a>\n",
    "</p>\n",
    "\n",
    "## Contents\n",
    "- [Demo](#Demo)\n",
    "- [References](#references)\n",
    "\n",
    "\n",
    "## Demo \n",
    "\n",
    "### prerequisites\n",
    "* MATLAB R2021b\n",
    "\n",
    "1. run the hyperspectral image denoising demo using:\n",
    "```\n",
    "matlab -nosplash -nodesktop < demo_hyperspectral_image_denoising.m\n",
    "```\n",
    "\n",
    "Below are some hyperspectral image denoising results, PSNR is reported:\n",
    "\n",
    "\n",
    "methods    | TTNN (Tensor Train) | SNN (Tucker)| RTD (CP)       | TNN (t-SVD) | CNN   (c-SVD) \n",
    "---------|--------|-----|--------|-----|-----\n",
    "[Toys](https://www1.cs.columbia.edu/CAVE/databases/multispectral/images/chart_and_stuffed_toy.png)     | 30.45 | 28.56 | 25.13| 34.10   | 39.59   \n",
    "[Feathers](https://www1.cs.columbia.edu/CAVE/databases/multispectral/images/feathers.png)     | 29.21 | 29.04 | 24.26 | 30.23   | 35.63  \n",
    "[Sponges](https://www1.cs.columbia.edu/CAVE/databases/multispectral/images/sponges.png)     | 37.53 | 38.31| 28.62 | 30.29   | 44.89  \n",
    "[Watercolors](https://www1.cs.columbia.edu/CAVE/databases/multispectral/images/watercolors.png)     | 29.68 | 28.92| 24.91| 36.27  | 39.51  \n",
    "[Paints](https://www1.cs.columbia.edu/CAVE/databases/multispectral/images/paints.png)   | 30.96 | 31.80 | 27.32 | 33.69  | 38.21   \n",
    "[Sushi](https://www1.cs.columbia.edu/CAVE/databases/multispectral/images/sushi.png)    | 32.92 | 31.80 | 30.25 | 33.45   | 37.56  \n",
    "\n",
    "2. run the simultation on phase Transition in rank and sparsity using:\n",
    "```\n",
    "matlab -nosplash -nodesktop < demo_simulation.m\n",
    "```\n",
    "Below are some simulation results, relative recovery errors is reported:\n",
    "\n",
    "\n",
    "![01-w10](figure/crank_tsvd.jpg){:height=\"100\" width=\"100\"}\n",
    "\n",
    "### References\n",
    "<ol>\n",
    "<li> L. D. Lathauwer, B. D. Moor and J. Vandewalle, A multilinear singular value decomposition, SIAM J. Matrix Analysis and Applications, 21(4):1253-1278, 2000\n",
    "<li> Canyi Lu, Jiashi Feng, Yudong Chen, Wei Liu, Zhouchen Lin, Shuicheng Yan. Tensor Robust Principal Component Analysis with A New Tensor Nuclear Norm. TPAMI. 2019\n",
    "\n",
    "\n"
   ]
  },
  {
   "cell_type": "code",
   "execution_count": null,
   "metadata": {},
   "outputs": [],
   "source": [
    "![01](figure/crank_tsvd.jpg){:height=\"50%\" width=\"50%\"} ![02](figure/crank_csvd.jpg) ![03](figure/crank_csvd01.jpg)\n"
   ]
  },
  {
   "cell_type": "code",
   "execution_count": null,
   "metadata": {},
   "outputs": [],
   "source": []
  }
 ],
 "metadata": {
  "kernelspec": {
   "display_name": "tproduct",
   "language": "python",
   "name": "tproduct"
  },
  "language_info": {
   "codemirror_mode": {
    "name": "ipython",
    "version": 3
   },
   "file_extension": ".py",
   "mimetype": "text/x-python",
   "name": "python",
   "nbconvert_exporter": "python",
   "pygments_lexer": "ipython3",
   "version": "3.9.6"
  }
 },
 "nbformat": 4,
 "nbformat_minor": 4
}
